{
 "cells": [
  {
   "cell_type": "markdown",
   "metadata": {},
   "source": [
    "# Capstone Project - Battle of the Neighbourhoods\n",
    "\n",
    "## Data to be used\n",
    "\n",
    "The primary source of data used will be that of Foursquare, who's API will provide venue details which we will use to locate the Cafés of a particular city in an attempt to identify a suitable location with high foot traffic (inner city) with relatively few Cafés in close proximity.\n",
    "\n",
    "As a starting point, this analysis will examine the capital cities of the 4 Scandinavian countries (Norway, Sweden, Denmark, Finland) who, according to the International Coffee Organisation report 2016 on which countries drink the most coffee, represent 4 out of the top 5 coffee drinking nations. These countries do not have multiple large cities like other countries such as those in North America or Asia so only their respective capitals (Oslo, Stockholm, Copenhagen, Helsinki) will be examined. The mapping db provider SimpleMaps will be providing us with the georgaphical coordinates for each of these cities for use in any mapping presentation.\n",
    "\n",
    "To further bolster our analysis we shall be complementing our venue location data with the locations of the universities within these cities on the grounds that university students typically drink more coffee and would be more sensitive to a reduced price due to budgetary restraints making them an ideal consumer base. A list of these cities' respective universities can be found on the web resource Unipage.net and their geographical coordinates will be found via google maps. These will serve as the focal points about which we will search venues on Foursquare."
   ]
  }
 ],
 "metadata": {
  "kernelspec": {
   "display_name": "Python 3",
   "language": "python",
   "name": "python3"
  },
  "language_info": {
   "codemirror_mode": {
    "name": "ipython",
    "version": 3
   },
   "file_extension": ".py",
   "mimetype": "text/x-python",
   "name": "python",
   "nbconvert_exporter": "python",
   "pygments_lexer": "ipython3",
   "version": "3.7.6"
  }
 },
 "nbformat": 4,
 "nbformat_minor": 4
}
