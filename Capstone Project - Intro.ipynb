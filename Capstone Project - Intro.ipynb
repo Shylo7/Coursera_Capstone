{
 "cells": [
  {
   "cell_type": "markdown",
   "metadata": {},
   "source": [
    "# Capstone Project - Battle of the Neighbourhoods I\n",
    "\n",
    "## Introduction & Defining the Business Problem\n",
    "\n",
    "The world of coffee is big business. Enormous quantities are shipped around the world throughout the year to feed an ever growing consumer apetite for new types of coffee and coffee-like drinks. Companies such as Starbucks have grown into multinational giants, building their franchise throughout the world on the premise of easy access to high quality coffee and highly relaxing interiors. This consumer offering has prompted many consumers to shun the idea of buying a coffee maker and simply venturing out to purchase coffee.\n",
    "\n",
    "Starbucks business model of extreme urban presence, having a store located within walking distance no matter where you are in the city, coupled with expensive leases on large city centre premises and accompanying labour costs represents a considerable operating cost. This presents an opportunity for other large coffee companies who primarily deal in automating the production of coffee (i.e. coffee machines) to undercut the likes of Starbucks with a reduced cost offering as a result of forgoing the usual labour and leasing costs while using in house technology. This analysis is geared towards such companies with 2 such examples being Nespresso, a coffee division within the Nestlé group and Lavazza, an Italian coffee machine producer.\n",
    "\n",
    "This analysis considers the possibility of a new range of large pop-up coffee machines resembling the coffee machines that are currently being produced as a kind of large coffee vending machine. Nespresso and Lavazza both already produce coffee makers and associated machinery as well as specialising in producing low volume extremely rich coffee such as their titular espresso which lends itself well to this endeavour. This type of coffee avoids heavy competition from artisan cafés who primarily sell expensive and customised coffee such as capuccinnos as well as the large coffee chains whose most popular drinks are typically latte's mochas and frappucinnos. It also mitigates the necessity to store large amounts of coffee on site with the vendor.\n",
    "\n",
    "The premise is a proof of concept in a small isolated area to test if the idea would be popular with consumers. This paper will examine the best possible locations for such a test to maximise returns with an eye to possible further expansion of these pop-up coffee vendors in similar locations elsewhere."
   ]
  },
  {
   "cell_type": "code",
   "execution_count": null,
   "metadata": {},
   "outputs": [],
   "source": []
  }
 ],
 "metadata": {
  "kernelspec": {
   "display_name": "Python 3",
   "language": "python",
   "name": "python3"
  },
  "language_info": {
   "codemirror_mode": {
    "name": "ipython",
    "version": 3
   },
   "file_extension": ".py",
   "mimetype": "text/x-python",
   "name": "python",
   "nbconvert_exporter": "python",
   "pygments_lexer": "ipython3",
   "version": "3.7.6"
  }
 },
 "nbformat": 4,
 "nbformat_minor": 4
}
